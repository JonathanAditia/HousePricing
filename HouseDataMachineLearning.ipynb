{
 "cells": [
  {
   "cell_type": "markdown",
   "metadata": {},
   "source": [
    "**Machine Learning**\n",
    "- Predicting the best pricing for real estate in King County\n",
    "\n",
    "\n",
    "**Conclusion**\n",
    "- Tuned XGBoost Regression model is very good to predict the house pricing"
   ]
  },
  {
   "cell_type": "code",
   "execution_count": 6,
   "metadata": {},
   "outputs": [],
   "source": [
    "import pandas as pd\n",
    "import numpy as np\n",
    "import matplotlib.pyplot as plt\n",
    "import seaborn as sns\n",
    "import warnings\n",
    "warnings.filterwarnings('ignore')\n",
    "\n",
    "%matplotlib inline"
   ]
  },
  {
   "cell_type": "code",
   "execution_count": 7,
   "metadata": {},
   "outputs": [
    {
     "data": {
      "text/html": [
       "<div>\n",
       "<style scoped>\n",
       "    .dataframe tbody tr th:only-of-type {\n",
       "        vertical-align: middle;\n",
       "    }\n",
       "\n",
       "    .dataframe tbody tr th {\n",
       "        vertical-align: top;\n",
       "    }\n",
       "\n",
       "    .dataframe thead th {\n",
       "        text-align: right;\n",
       "    }\n",
       "</style>\n",
       "<table border=\"1\" class=\"dataframe\">\n",
       "  <thead>\n",
       "    <tr style=\"text-align: right;\">\n",
       "      <th></th>\n",
       "      <th>id</th>\n",
       "      <th>date</th>\n",
       "      <th>price</th>\n",
       "      <th>bedrooms</th>\n",
       "      <th>bathrooms</th>\n",
       "      <th>sqft_living</th>\n",
       "      <th>sqft_lot</th>\n",
       "      <th>floors</th>\n",
       "      <th>waterfront</th>\n",
       "      <th>view</th>\n",
       "      <th>...</th>\n",
       "      <th>grade</th>\n",
       "      <th>sqft_above</th>\n",
       "      <th>sqft_basement</th>\n",
       "      <th>yr_built</th>\n",
       "      <th>yr_renovated</th>\n",
       "      <th>zipcode</th>\n",
       "      <th>lat</th>\n",
       "      <th>long</th>\n",
       "      <th>sqft_living15</th>\n",
       "      <th>sqft_lot15</th>\n",
       "    </tr>\n",
       "  </thead>\n",
       "  <tbody>\n",
       "    <tr>\n",
       "      <th>0</th>\n",
       "      <td>7129300520</td>\n",
       "      <td>20141013T000000</td>\n",
       "      <td>221900.0</td>\n",
       "      <td>3</td>\n",
       "      <td>1.00</td>\n",
       "      <td>1180</td>\n",
       "      <td>5650</td>\n",
       "      <td>1.0</td>\n",
       "      <td>0</td>\n",
       "      <td>0</td>\n",
       "      <td>...</td>\n",
       "      <td>7</td>\n",
       "      <td>1180</td>\n",
       "      <td>0</td>\n",
       "      <td>1955</td>\n",
       "      <td>0</td>\n",
       "      <td>98178</td>\n",
       "      <td>47.5112</td>\n",
       "      <td>-122.257</td>\n",
       "      <td>1340</td>\n",
       "      <td>5650</td>\n",
       "    </tr>\n",
       "    <tr>\n",
       "      <th>1</th>\n",
       "      <td>6414100192</td>\n",
       "      <td>20141209T000000</td>\n",
       "      <td>538000.0</td>\n",
       "      <td>3</td>\n",
       "      <td>2.25</td>\n",
       "      <td>2570</td>\n",
       "      <td>7242</td>\n",
       "      <td>2.0</td>\n",
       "      <td>0</td>\n",
       "      <td>0</td>\n",
       "      <td>...</td>\n",
       "      <td>7</td>\n",
       "      <td>2170</td>\n",
       "      <td>400</td>\n",
       "      <td>1951</td>\n",
       "      <td>1991</td>\n",
       "      <td>98125</td>\n",
       "      <td>47.7210</td>\n",
       "      <td>-122.319</td>\n",
       "      <td>1690</td>\n",
       "      <td>7639</td>\n",
       "    </tr>\n",
       "    <tr>\n",
       "      <th>2</th>\n",
       "      <td>5631500400</td>\n",
       "      <td>20150225T000000</td>\n",
       "      <td>180000.0</td>\n",
       "      <td>2</td>\n",
       "      <td>1.00</td>\n",
       "      <td>770</td>\n",
       "      <td>10000</td>\n",
       "      <td>1.0</td>\n",
       "      <td>0</td>\n",
       "      <td>0</td>\n",
       "      <td>...</td>\n",
       "      <td>6</td>\n",
       "      <td>770</td>\n",
       "      <td>0</td>\n",
       "      <td>1933</td>\n",
       "      <td>0</td>\n",
       "      <td>98028</td>\n",
       "      <td>47.7379</td>\n",
       "      <td>-122.233</td>\n",
       "      <td>2720</td>\n",
       "      <td>8062</td>\n",
       "    </tr>\n",
       "    <tr>\n",
       "      <th>3</th>\n",
       "      <td>2487200875</td>\n",
       "      <td>20141209T000000</td>\n",
       "      <td>604000.0</td>\n",
       "      <td>4</td>\n",
       "      <td>3.00</td>\n",
       "      <td>1960</td>\n",
       "      <td>5000</td>\n",
       "      <td>1.0</td>\n",
       "      <td>0</td>\n",
       "      <td>0</td>\n",
       "      <td>...</td>\n",
       "      <td>7</td>\n",
       "      <td>1050</td>\n",
       "      <td>910</td>\n",
       "      <td>1965</td>\n",
       "      <td>0</td>\n",
       "      <td>98136</td>\n",
       "      <td>47.5208</td>\n",
       "      <td>-122.393</td>\n",
       "      <td>1360</td>\n",
       "      <td>5000</td>\n",
       "    </tr>\n",
       "    <tr>\n",
       "      <th>4</th>\n",
       "      <td>1954400510</td>\n",
       "      <td>20150218T000000</td>\n",
       "      <td>510000.0</td>\n",
       "      <td>3</td>\n",
       "      <td>2.00</td>\n",
       "      <td>1680</td>\n",
       "      <td>8080</td>\n",
       "      <td>1.0</td>\n",
       "      <td>0</td>\n",
       "      <td>0</td>\n",
       "      <td>...</td>\n",
       "      <td>8</td>\n",
       "      <td>1680</td>\n",
       "      <td>0</td>\n",
       "      <td>1987</td>\n",
       "      <td>0</td>\n",
       "      <td>98074</td>\n",
       "      <td>47.6168</td>\n",
       "      <td>-122.045</td>\n",
       "      <td>1800</td>\n",
       "      <td>7503</td>\n",
       "    </tr>\n",
       "  </tbody>\n",
       "</table>\n",
       "<p>5 rows × 21 columns</p>\n",
       "</div>"
      ],
      "text/plain": [
       "           id             date     price  bedrooms  bathrooms  sqft_living  \\\n",
       "0  7129300520  20141013T000000  221900.0         3       1.00         1180   \n",
       "1  6414100192  20141209T000000  538000.0         3       2.25         2570   \n",
       "2  5631500400  20150225T000000  180000.0         2       1.00          770   \n",
       "3  2487200875  20141209T000000  604000.0         4       3.00         1960   \n",
       "4  1954400510  20150218T000000  510000.0         3       2.00         1680   \n",
       "\n",
       "   sqft_lot  floors  waterfront  view  ...  grade  sqft_above  sqft_basement  \\\n",
       "0      5650     1.0           0     0  ...      7        1180              0   \n",
       "1      7242     2.0           0     0  ...      7        2170            400   \n",
       "2     10000     1.0           0     0  ...      6         770              0   \n",
       "3      5000     1.0           0     0  ...      7        1050            910   \n",
       "4      8080     1.0           0     0  ...      8        1680              0   \n",
       "\n",
       "   yr_built  yr_renovated  zipcode      lat     long  sqft_living15  \\\n",
       "0      1955             0    98178  47.5112 -122.257           1340   \n",
       "1      1951          1991    98125  47.7210 -122.319           1690   \n",
       "2      1933             0    98028  47.7379 -122.233           2720   \n",
       "3      1965             0    98136  47.5208 -122.393           1360   \n",
       "4      1987             0    98074  47.6168 -122.045           1800   \n",
       "\n",
       "   sqft_lot15  \n",
       "0        5650  \n",
       "1        7639  \n",
       "2        8062  \n",
       "3        5000  \n",
       "4        7503  \n",
       "\n",
       "[5 rows x 21 columns]"
      ]
     },
     "execution_count": 7,
     "metadata": {},
     "output_type": "execute_result"
    }
   ],
   "source": [
    "df = pd.read_csv('kc_house_data.csv')\n",
    "df.head()"
   ]
  },
  {
   "cell_type": "markdown",
   "metadata": {},
   "source": [
    "**Data Preprocessing**"
   ]
  },
  {
   "cell_type": "code",
   "execution_count": 8,
   "metadata": {},
   "outputs": [],
   "source": [
    "df.drop(columns=['id'], inplace=True)"
   ]
  },
  {
   "cell_type": "code",
   "execution_count": 9,
   "metadata": {},
   "outputs": [],
   "source": [
    "def dates(x):\n",
    "    return x[:8]\n",
    "\n",
    "df['date'] = df['date'].apply(dates)"
   ]
  },
  {
   "cell_type": "code",
   "execution_count": 10,
   "metadata": {},
   "outputs": [],
   "source": [
    "df['date'] = df['date'].astype(int)"
   ]
  },
  {
   "cell_type": "code",
   "execution_count": 11,
   "metadata": {},
   "outputs": [],
   "source": [
    "df.loc[df['yr_renovated']==0, 'yr_renovated'] = df['yr_built']"
   ]
  },
  {
   "cell_type": "code",
   "execution_count": 12,
   "metadata": {},
   "outputs": [],
   "source": [
    "df = pd.get_dummies(data=df, columns=['zipcode'])"
   ]
  },
  {
   "cell_type": "code",
   "execution_count": 13,
   "metadata": {},
   "outputs": [
    {
     "data": {
      "text/html": [
       "<div>\n",
       "<style scoped>\n",
       "    .dataframe tbody tr th:only-of-type {\n",
       "        vertical-align: middle;\n",
       "    }\n",
       "\n",
       "    .dataframe tbody tr th {\n",
       "        vertical-align: top;\n",
       "    }\n",
       "\n",
       "    .dataframe thead th {\n",
       "        text-align: right;\n",
       "    }\n",
       "</style>\n",
       "<table border=\"1\" class=\"dataframe\">\n",
       "  <thead>\n",
       "    <tr style=\"text-align: right;\">\n",
       "      <th></th>\n",
       "      <th>date</th>\n",
       "      <th>price</th>\n",
       "      <th>bedrooms</th>\n",
       "      <th>bathrooms</th>\n",
       "      <th>sqft_living</th>\n",
       "      <th>sqft_lot</th>\n",
       "      <th>floors</th>\n",
       "      <th>waterfront</th>\n",
       "      <th>view</th>\n",
       "      <th>condition</th>\n",
       "      <th>...</th>\n",
       "      <th>zipcode_98146</th>\n",
       "      <th>zipcode_98148</th>\n",
       "      <th>zipcode_98155</th>\n",
       "      <th>zipcode_98166</th>\n",
       "      <th>zipcode_98168</th>\n",
       "      <th>zipcode_98177</th>\n",
       "      <th>zipcode_98178</th>\n",
       "      <th>zipcode_98188</th>\n",
       "      <th>zipcode_98198</th>\n",
       "      <th>zipcode_98199</th>\n",
       "    </tr>\n",
       "  </thead>\n",
       "  <tbody>\n",
       "    <tr>\n",
       "      <th>0</th>\n",
       "      <td>20141013</td>\n",
       "      <td>221900.0</td>\n",
       "      <td>3</td>\n",
       "      <td>1.00</td>\n",
       "      <td>1180</td>\n",
       "      <td>5650</td>\n",
       "      <td>1.0</td>\n",
       "      <td>0</td>\n",
       "      <td>0</td>\n",
       "      <td>3</td>\n",
       "      <td>...</td>\n",
       "      <td>0</td>\n",
       "      <td>0</td>\n",
       "      <td>0</td>\n",
       "      <td>0</td>\n",
       "      <td>0</td>\n",
       "      <td>0</td>\n",
       "      <td>1</td>\n",
       "      <td>0</td>\n",
       "      <td>0</td>\n",
       "      <td>0</td>\n",
       "    </tr>\n",
       "    <tr>\n",
       "      <th>1</th>\n",
       "      <td>20141209</td>\n",
       "      <td>538000.0</td>\n",
       "      <td>3</td>\n",
       "      <td>2.25</td>\n",
       "      <td>2570</td>\n",
       "      <td>7242</td>\n",
       "      <td>2.0</td>\n",
       "      <td>0</td>\n",
       "      <td>0</td>\n",
       "      <td>3</td>\n",
       "      <td>...</td>\n",
       "      <td>0</td>\n",
       "      <td>0</td>\n",
       "      <td>0</td>\n",
       "      <td>0</td>\n",
       "      <td>0</td>\n",
       "      <td>0</td>\n",
       "      <td>0</td>\n",
       "      <td>0</td>\n",
       "      <td>0</td>\n",
       "      <td>0</td>\n",
       "    </tr>\n",
       "    <tr>\n",
       "      <th>2</th>\n",
       "      <td>20150225</td>\n",
       "      <td>180000.0</td>\n",
       "      <td>2</td>\n",
       "      <td>1.00</td>\n",
       "      <td>770</td>\n",
       "      <td>10000</td>\n",
       "      <td>1.0</td>\n",
       "      <td>0</td>\n",
       "      <td>0</td>\n",
       "      <td>3</td>\n",
       "      <td>...</td>\n",
       "      <td>0</td>\n",
       "      <td>0</td>\n",
       "      <td>0</td>\n",
       "      <td>0</td>\n",
       "      <td>0</td>\n",
       "      <td>0</td>\n",
       "      <td>0</td>\n",
       "      <td>0</td>\n",
       "      <td>0</td>\n",
       "      <td>0</td>\n",
       "    </tr>\n",
       "    <tr>\n",
       "      <th>3</th>\n",
       "      <td>20141209</td>\n",
       "      <td>604000.0</td>\n",
       "      <td>4</td>\n",
       "      <td>3.00</td>\n",
       "      <td>1960</td>\n",
       "      <td>5000</td>\n",
       "      <td>1.0</td>\n",
       "      <td>0</td>\n",
       "      <td>0</td>\n",
       "      <td>5</td>\n",
       "      <td>...</td>\n",
       "      <td>0</td>\n",
       "      <td>0</td>\n",
       "      <td>0</td>\n",
       "      <td>0</td>\n",
       "      <td>0</td>\n",
       "      <td>0</td>\n",
       "      <td>0</td>\n",
       "      <td>0</td>\n",
       "      <td>0</td>\n",
       "      <td>0</td>\n",
       "    </tr>\n",
       "    <tr>\n",
       "      <th>4</th>\n",
       "      <td>20150218</td>\n",
       "      <td>510000.0</td>\n",
       "      <td>3</td>\n",
       "      <td>2.00</td>\n",
       "      <td>1680</td>\n",
       "      <td>8080</td>\n",
       "      <td>1.0</td>\n",
       "      <td>0</td>\n",
       "      <td>0</td>\n",
       "      <td>3</td>\n",
       "      <td>...</td>\n",
       "      <td>0</td>\n",
       "      <td>0</td>\n",
       "      <td>0</td>\n",
       "      <td>0</td>\n",
       "      <td>0</td>\n",
       "      <td>0</td>\n",
       "      <td>0</td>\n",
       "      <td>0</td>\n",
       "      <td>0</td>\n",
       "      <td>0</td>\n",
       "    </tr>\n",
       "    <tr>\n",
       "      <th>...</th>\n",
       "      <td>...</td>\n",
       "      <td>...</td>\n",
       "      <td>...</td>\n",
       "      <td>...</td>\n",
       "      <td>...</td>\n",
       "      <td>...</td>\n",
       "      <td>...</td>\n",
       "      <td>...</td>\n",
       "      <td>...</td>\n",
       "      <td>...</td>\n",
       "      <td>...</td>\n",
       "      <td>...</td>\n",
       "      <td>...</td>\n",
       "      <td>...</td>\n",
       "      <td>...</td>\n",
       "      <td>...</td>\n",
       "      <td>...</td>\n",
       "      <td>...</td>\n",
       "      <td>...</td>\n",
       "      <td>...</td>\n",
       "      <td>...</td>\n",
       "    </tr>\n",
       "    <tr>\n",
       "      <th>21608</th>\n",
       "      <td>20140521</td>\n",
       "      <td>360000.0</td>\n",
       "      <td>3</td>\n",
       "      <td>2.50</td>\n",
       "      <td>1530</td>\n",
       "      <td>1131</td>\n",
       "      <td>3.0</td>\n",
       "      <td>0</td>\n",
       "      <td>0</td>\n",
       "      <td>3</td>\n",
       "      <td>...</td>\n",
       "      <td>0</td>\n",
       "      <td>0</td>\n",
       "      <td>0</td>\n",
       "      <td>0</td>\n",
       "      <td>0</td>\n",
       "      <td>0</td>\n",
       "      <td>0</td>\n",
       "      <td>0</td>\n",
       "      <td>0</td>\n",
       "      <td>0</td>\n",
       "    </tr>\n",
       "    <tr>\n",
       "      <th>21609</th>\n",
       "      <td>20150223</td>\n",
       "      <td>400000.0</td>\n",
       "      <td>4</td>\n",
       "      <td>2.50</td>\n",
       "      <td>2310</td>\n",
       "      <td>5813</td>\n",
       "      <td>2.0</td>\n",
       "      <td>0</td>\n",
       "      <td>0</td>\n",
       "      <td>3</td>\n",
       "      <td>...</td>\n",
       "      <td>1</td>\n",
       "      <td>0</td>\n",
       "      <td>0</td>\n",
       "      <td>0</td>\n",
       "      <td>0</td>\n",
       "      <td>0</td>\n",
       "      <td>0</td>\n",
       "      <td>0</td>\n",
       "      <td>0</td>\n",
       "      <td>0</td>\n",
       "    </tr>\n",
       "    <tr>\n",
       "      <th>21610</th>\n",
       "      <td>20140623</td>\n",
       "      <td>402101.0</td>\n",
       "      <td>2</td>\n",
       "      <td>0.75</td>\n",
       "      <td>1020</td>\n",
       "      <td>1350</td>\n",
       "      <td>2.0</td>\n",
       "      <td>0</td>\n",
       "      <td>0</td>\n",
       "      <td>3</td>\n",
       "      <td>...</td>\n",
       "      <td>0</td>\n",
       "      <td>0</td>\n",
       "      <td>0</td>\n",
       "      <td>0</td>\n",
       "      <td>0</td>\n",
       "      <td>0</td>\n",
       "      <td>0</td>\n",
       "      <td>0</td>\n",
       "      <td>0</td>\n",
       "      <td>0</td>\n",
       "    </tr>\n",
       "    <tr>\n",
       "      <th>21611</th>\n",
       "      <td>20150116</td>\n",
       "      <td>400000.0</td>\n",
       "      <td>3</td>\n",
       "      <td>2.50</td>\n",
       "      <td>1600</td>\n",
       "      <td>2388</td>\n",
       "      <td>2.0</td>\n",
       "      <td>0</td>\n",
       "      <td>0</td>\n",
       "      <td>3</td>\n",
       "      <td>...</td>\n",
       "      <td>0</td>\n",
       "      <td>0</td>\n",
       "      <td>0</td>\n",
       "      <td>0</td>\n",
       "      <td>0</td>\n",
       "      <td>0</td>\n",
       "      <td>0</td>\n",
       "      <td>0</td>\n",
       "      <td>0</td>\n",
       "      <td>0</td>\n",
       "    </tr>\n",
       "    <tr>\n",
       "      <th>21612</th>\n",
       "      <td>20141015</td>\n",
       "      <td>325000.0</td>\n",
       "      <td>2</td>\n",
       "      <td>0.75</td>\n",
       "      <td>1020</td>\n",
       "      <td>1076</td>\n",
       "      <td>2.0</td>\n",
       "      <td>0</td>\n",
       "      <td>0</td>\n",
       "      <td>3</td>\n",
       "      <td>...</td>\n",
       "      <td>0</td>\n",
       "      <td>0</td>\n",
       "      <td>0</td>\n",
       "      <td>0</td>\n",
       "      <td>0</td>\n",
       "      <td>0</td>\n",
       "      <td>0</td>\n",
       "      <td>0</td>\n",
       "      <td>0</td>\n",
       "      <td>0</td>\n",
       "    </tr>\n",
       "  </tbody>\n",
       "</table>\n",
       "<p>21613 rows × 89 columns</p>\n",
       "</div>"
      ],
      "text/plain": [
       "           date     price  bedrooms  bathrooms  sqft_living  sqft_lot  floors  \\\n",
       "0      20141013  221900.0         3       1.00         1180      5650     1.0   \n",
       "1      20141209  538000.0         3       2.25         2570      7242     2.0   \n",
       "2      20150225  180000.0         2       1.00          770     10000     1.0   \n",
       "3      20141209  604000.0         4       3.00         1960      5000     1.0   \n",
       "4      20150218  510000.0         3       2.00         1680      8080     1.0   \n",
       "...         ...       ...       ...        ...          ...       ...     ...   \n",
       "21608  20140521  360000.0         3       2.50         1530      1131     3.0   \n",
       "21609  20150223  400000.0         4       2.50         2310      5813     2.0   \n",
       "21610  20140623  402101.0         2       0.75         1020      1350     2.0   \n",
       "21611  20150116  400000.0         3       2.50         1600      2388     2.0   \n",
       "21612  20141015  325000.0         2       0.75         1020      1076     2.0   \n",
       "\n",
       "       waterfront  view  condition  ...  zipcode_98146  zipcode_98148  \\\n",
       "0               0     0          3  ...              0              0   \n",
       "1               0     0          3  ...              0              0   \n",
       "2               0     0          3  ...              0              0   \n",
       "3               0     0          5  ...              0              0   \n",
       "4               0     0          3  ...              0              0   \n",
       "...           ...   ...        ...  ...            ...            ...   \n",
       "21608           0     0          3  ...              0              0   \n",
       "21609           0     0          3  ...              1              0   \n",
       "21610           0     0          3  ...              0              0   \n",
       "21611           0     0          3  ...              0              0   \n",
       "21612           0     0          3  ...              0              0   \n",
       "\n",
       "       zipcode_98155  zipcode_98166  zipcode_98168  zipcode_98177  \\\n",
       "0                  0              0              0              0   \n",
       "1                  0              0              0              0   \n",
       "2                  0              0              0              0   \n",
       "3                  0              0              0              0   \n",
       "4                  0              0              0              0   \n",
       "...              ...            ...            ...            ...   \n",
       "21608              0              0              0              0   \n",
       "21609              0              0              0              0   \n",
       "21610              0              0              0              0   \n",
       "21611              0              0              0              0   \n",
       "21612              0              0              0              0   \n",
       "\n",
       "       zipcode_98178  zipcode_98188  zipcode_98198  zipcode_98199  \n",
       "0                  1              0              0              0  \n",
       "1                  0              0              0              0  \n",
       "2                  0              0              0              0  \n",
       "3                  0              0              0              0  \n",
       "4                  0              0              0              0  \n",
       "...              ...            ...            ...            ...  \n",
       "21608              0              0              0              0  \n",
       "21609              0              0              0              0  \n",
       "21610              0              0              0              0  \n",
       "21611              0              0              0              0  \n",
       "21612              0              0              0              0  \n",
       "\n",
       "[21613 rows x 89 columns]"
      ]
     },
     "execution_count": 13,
     "metadata": {},
     "output_type": "execute_result"
    }
   ],
   "source": [
    "df"
   ]
  },
  {
   "cell_type": "markdown",
   "metadata": {},
   "source": [
    "**Machine Learning Preprocessing**"
   ]
  },
  {
   "cell_type": "code",
   "execution_count": 14,
   "metadata": {},
   "outputs": [],
   "source": [
    "from sklearn.model_selection import train_test_split"
   ]
  },
  {
   "cell_type": "code",
   "execution_count": 15,
   "metadata": {},
   "outputs": [],
   "source": [
    "X = df.drop(columns='price')\n",
    "y = df['price']"
   ]
  },
  {
   "cell_type": "code",
   "execution_count": 16,
   "metadata": {},
   "outputs": [],
   "source": [
    "X_train, X_test, y_train, y_test = train_test_split(X, y, train_size = .90,random_state = 42)"
   ]
  },
  {
   "cell_type": "markdown",
   "metadata": {},
   "source": [
    "**Machine Learning**"
   ]
  },
  {
   "cell_type": "markdown",
   "metadata": {},
   "source": [
    "**Linear Regression**"
   ]
  },
  {
   "cell_type": "code",
   "execution_count": 17,
   "metadata": {},
   "outputs": [
    {
     "name": "stdout",
     "output_type": "stream",
     "text": [
      "Model Lin Score : 0.796955517619208\n",
      "Model Lin Predict : [ 363201.50732977  825545.66663898 1228351.9250649  ...   63589.92432579\n",
      "  317914.31986373  267185.22371814]\n"
     ]
    }
   ],
   "source": [
    "from sklearn.linear_model import LinearRegression\n",
    "\n",
    "modelLin = LinearRegression(copy_X=True)\n",
    "modelLin.fit(X_train, y_train)\n",
    "modelLin.score(X_test, y_test)\n",
    "modelLin.predict(X_test)\n",
    "\n",
    "print('Model Lin Score :',modelLin.score(X_test, y_test))\n",
    "print('Model Lin Predict :',modelLin.predict(X_test))"
   ]
  },
  {
   "cell_type": "markdown",
   "metadata": {},
   "source": [
    "**Polynomial Regression**"
   ]
  },
  {
   "cell_type": "code",
   "execution_count": 18,
   "metadata": {},
   "outputs": [
    {
     "name": "stdout",
     "output_type": "stream",
     "text": [
      "Model Poli Score : 0.8593840152883079\n",
      "Model Poli Predict : [ 377909.25256348  950192.59631348 1248855.97131348 ...  298867.40881348\n",
      "  304518.65881348  306314.98693848]\n"
     ]
    }
   ],
   "source": [
    "from sklearn.preprocessing import PolynomialFeatures\n",
    "\n",
    "poli = PolynomialFeatures(degree=2, include_bias = False)\n",
    "X_poli = poli.fit_transform(X)\n",
    "\n",
    "X_train_poli, X_test_poli, y_train_poli, y_test_poli = train_test_split(X_poli, y, test_size = .10, random_state = 42)\n",
    "\n",
    "modelPoli = LinearRegression(copy_X=True)\n",
    "modelPoli.fit(X_train_poli, y_train_poli)\n",
    "modelPoli.score(X_test_poli, y_test_poli)\n",
    "modelPoli.predict(X_test_poli)\n",
    "\n",
    "print('Model Poli Score :',modelPoli.score(X_test_poli, y_test_poli))\n",
    "print('Model Poli Predict :',modelPoli.predict(X_test_poli))"
   ]
  },
  {
   "cell_type": "markdown",
   "metadata": {},
   "source": [
    "**LogReg** (tdk dipakai, lemot)"
   ]
  },
  {
   "cell_type": "code",
   "execution_count": 19,
   "metadata": {},
   "outputs": [],
   "source": [
    "# from sklearn.linear_model import LogisticRegression\n",
    "\n",
    "# modelLog = LogisticRegression()\n",
    "# modelLog.fit(X_train, y_train)\n",
    "# modelLog.score(X_train, y_train)\n",
    "# modelLog.predict(X_test)\n",
    "\n",
    "\n",
    "# print('Model Log Score :',modelLog.score(X_test, y_test))\n",
    "# print('Model Log Predict :',modelLog.predict(X_test))"
   ]
  },
  {
   "cell_type": "markdown",
   "metadata": {},
   "source": [
    "**KNN**"
   ]
  },
  {
   "cell_type": "code",
   "execution_count": 20,
   "metadata": {},
   "outputs": [
    {
     "name": "stdout",
     "output_type": "stream",
     "text": [
      "Model KNN Score : 0.5119566136366014\n",
      "Model KNN Predict : [ 408198.  779700. 1163950. ...  787800.  421900.  254800.]\n"
     ]
    }
   ],
   "source": [
    "from sklearn.neighbors import KNeighborsRegressor\n",
    "\n",
    "modelKNN = KNeighborsRegressor()\n",
    "modelKNN.fit(X_train, y_train)\n",
    "modelKNN.score(X_train, y_train)\n",
    "modelKNN.predict(X_test)\n",
    "\n",
    "print('Model KNN Score :',modelKNN.score(X_test, y_test))\n",
    "print('Model KNN Predict :',modelKNN.predict(X_test))"
   ]
  },
  {
   "cell_type": "markdown",
   "metadata": {},
   "source": [
    "**Lasso**"
   ]
  },
  {
   "cell_type": "code",
   "execution_count": 21,
   "metadata": {},
   "outputs": [
    {
     "name": "stdout",
     "output_type": "stream",
     "text": [
      "Model Lasso Score : 0.7969469564468864\n",
      "Model Lasso Predict : [ 363193.27238622  825297.19402963 1228578.83075148 ...   63355.86899203\n",
      "  317966.37764367  267150.97457059]\n"
     ]
    }
   ],
   "source": [
    "from sklearn.linear_model import Lasso\n",
    "\n",
    "modelLasso = Lasso(copy_X=True)\n",
    "modelLasso.fit(X_train, y_train)\n",
    "modelLasso.score(X_train, y_train)\n",
    "modelLasso.predict(X_test)\n",
    "\n",
    "\n",
    "print('Model Lasso Score :',modelLasso.score(X_test, y_test))\n",
    "print('Model Lasso Predict :',modelLasso.predict(X_test))"
   ]
  },
  {
   "cell_type": "markdown",
   "metadata": {},
   "source": [
    "**Ridge**"
   ]
  },
  {
   "cell_type": "code",
   "execution_count": 22,
   "metadata": {},
   "outputs": [
    {
     "name": "stdout",
     "output_type": "stream",
     "text": [
      "Model Ridge Score : 0.7969910658155861\n",
      "Model Ridge Predict : [ 363519.72579175  824448.46407194 1229232.70557873 ...   63692.86829205\n",
      "  317911.11851081  267314.8783666 ]\n"
     ]
    }
   ],
   "source": [
    "from sklearn.linear_model import Ridge\n",
    "\n",
    "modelRidge = Ridge(copy_X=True)\n",
    "modelRidge.fit(X_train, y_train)\n",
    "modelRidge.score(X_train, y_train)\n",
    "modelRidge.predict(X_test)\n",
    "\n",
    "\n",
    "print('Model Ridge Score :',modelRidge.score(X_test, y_test))\n",
    "print('Model Ridge Predict :',modelRidge.predict(X_test))"
   ]
  },
  {
   "cell_type": "markdown",
   "metadata": {},
   "source": [
    "**Elastic Net**"
   ]
  },
  {
   "cell_type": "code",
   "execution_count": 23,
   "metadata": {},
   "outputs": [
    {
     "name": "stdout",
     "output_type": "stream",
     "text": [
      "Model ElasticNet Score : 0.6084848263215801\n",
      "Model ElasticNet Predict : [ 512422.34633678  707274.5388999  1183540.88867015 ...  246662.65606569\n",
      "  391814.4950781   306935.1885623 ]\n"
     ]
    }
   ],
   "source": [
    "from sklearn.linear_model import ElasticNet\n",
    "\n",
    "modelEN = ElasticNet(copy_X=True)\n",
    "modelEN.fit(X_train, y_train)\n",
    "modelEN.score(X_train, y_train)\n",
    "modelEN.predict(X_test)\n",
    "\n",
    "\n",
    "print('Model ElasticNet Score :',modelEN.score(X_test, y_test))\n",
    "print('Model ElasticNet Predict :',modelEN.predict(X_test))"
   ]
  },
  {
   "cell_type": "markdown",
   "metadata": {},
   "source": [
    "**RF**"
   ]
  },
  {
   "cell_type": "code",
   "execution_count": 24,
   "metadata": {},
   "outputs": [
    {
     "name": "stdout",
     "output_type": "stream",
     "text": [
      "Model RF Score : 0.8818498175539766\n",
      "Model RF Predict : [ 389602.    858200.7  1095786.53 ...  331956.86  290099.5   286477.5 ]\n"
     ]
    }
   ],
   "source": [
    "from sklearn.ensemble import RandomForestRegressor\n",
    "\n",
    "modelRF = RandomForestRegressor()\n",
    "modelRF.fit(X_train, y_train)\n",
    "modelRF.score(X_train, y_train)\n",
    "modelRF.predict(X_test)\n",
    "\n",
    "print('Model RF Score :',modelRF.score(X_test, y_test))\n",
    "print('Model RF Predict :',modelRF.predict(X_test))"
   ]
  },
  {
   "cell_type": "markdown",
   "metadata": {},
   "source": [
    "**XGBoost**"
   ]
  },
  {
   "cell_type": "code",
   "execution_count": 25,
   "metadata": {},
   "outputs": [
    {
     "name": "stdout",
     "output_type": "stream",
     "text": [
      "Model XGB Score : 0.8981044834807838\n",
      "Model XGB Predict : [ 397089.94  888527.56 1128538.5  ...  365266.53  269836.78  275406.6 ]\n"
     ]
    }
   ],
   "source": [
    "from xgboost import XGBRegressor\n",
    "from sklearn.svm import SVC, SVR\n",
    "from sklearn.ensemble import AdaBoostRegressor, GradientBoostingRegressor\n",
    "\n",
    "modelXGB = XGBRegressor()\n",
    "modelXGB.fit(X_train, y_train)\n",
    "modelXGB.score(X_train, y_train)\n",
    "modelXGB.predict(X_test)\n",
    "\n",
    "print('Model XGB Score :',modelXGB.score(X_test, y_test))\n",
    "print('Model XGB Predict :',modelXGB.predict(X_test))"
   ]
  },
  {
   "cell_type": "markdown",
   "metadata": {},
   "source": [
    "**Metrics**"
   ]
  },
  {
   "cell_type": "code",
   "execution_count": 26,
   "metadata": {},
   "outputs": [],
   "source": [
    "from sklearn.metrics import mean_absolute_error, mean_squared_error, r2_score"
   ]
  },
  {
   "cell_type": "code",
   "execution_count": 27,
   "metadata": {},
   "outputs": [],
   "source": [
    "y_pred_lintr = modelLin.predict(X_train)\n",
    "y_pred_politr = modelPoli.predict(X_train_poli)\n",
    "y_pred_knntr = modelKNN.predict(X_train)\n",
    "y_pred_lassotr = modelLasso.predict(X_train)\n",
    "y_pred_ridgetr = modelRidge.predict(X_train)\n",
    "y_pred_ENtr = modelEN.predict(X_train)\n",
    "y_pred_RFtr = modelRF.predict(X_train)\n",
    "y_pred_XGBtr = modelXGB.predict(X_train)\n",
    "\n",
    "MAE_Lin = mean_absolute_error(y_train,y_pred_lintr)\n",
    "MAE_Poli = mean_absolute_error(y_train_poli,y_pred_politr)\n",
    "MAE_KNN = mean_absolute_error(y_train,y_pred_knntr)\n",
    "MAE_Lasso = mean_absolute_error(y_train,y_pred_lassotr)\n",
    "MAE_Ridge = mean_absolute_error(y_train,y_pred_ridgetr)\n",
    "MAE_EN = mean_absolute_error(y_train,y_pred_ENtr)\n",
    "MAE_RF = mean_absolute_error(y_train,y_pred_RFtr)\n",
    "MAE_XGB = mean_absolute_error(y_train,y_pred_XGBtr)\n",
    "\n",
    "MSE_Lin = mean_squared_error(y_train, y_pred_lintr)\n",
    "MSE_Poli = mean_squared_error(y_train_poli, y_pred_politr)\n",
    "MSE_KNN = mean_squared_error(y_train, y_pred_knntr)\n",
    "MSE_Lasso = mean_squared_error(y_train, y_pred_lassotr)\n",
    "MSE_Ridge = mean_squared_error(y_train, y_pred_ridgetr)\n",
    "MSE_EN = mean_squared_error(y_train, y_pred_ENtr)\n",
    "MSE_RF = mean_squared_error(y_train, y_pred_RFtr)\n",
    "MSE_XGB = mean_squared_error(y_train, y_pred_XGBtr)\n",
    "\n",
    "RMSE_Lin = np.sqrt(MSE_Lin)\n",
    "RMSE_Poli = np.sqrt(MSE_Poli)\n",
    "RMSE_KNN = np.sqrt(MSE_KNN)\n",
    "RMSE_Lasso = np.sqrt(MSE_Lasso)\n",
    "RMSE_Ridge = np.sqrt(MSE_Ridge)\n",
    "RMSE_EN = np.sqrt(MSE_EN)\n",
    "RMSE_RF = np.sqrt(MSE_RF)\n",
    "RMSE_XGB = np.sqrt(MSE_XGB)\n",
    "\n",
    "R2_Lin = r2_score(y_train, y_pred_lintr)\n",
    "R2_Poli = r2_score(y_train_poli, y_pred_politr)\n",
    "R2_KNN = r2_score(y_train, y_pred_knntr)\n",
    "R2_Lasso = r2_score(y_train, y_pred_lassotr)\n",
    "R2_Ridge = r2_score(y_train, y_pred_ridgetr)\n",
    "R2_EN = r2_score(y_train, y_pred_ENtr)\n",
    "R2_RF = r2_score(y_train, y_pred_RFtr)\n",
    "R2_XGB = r2_score(y_train, y_pred_XGBtr)\n",
    "\n",
    "y_pred_lintest = modelLin.predict(X_test)\n",
    "y_pred_politest = modelPoli.predict(X_test_poli)\n",
    "y_pred_knntest = modelKNN.predict(X_test)\n",
    "y_pred_lassotest = modelLasso.predict(X_test)\n",
    "y_pred_ridgetest = modelRidge.predict(X_test)\n",
    "y_pred_ENtest = modelEN.predict(X_test)\n",
    "y_pred_RFtest = modelRF.predict(X_test)\n",
    "y_pred_XGBtest = modelXGB.predict(X_test)\n",
    "\n",
    "MAE_Lintest = mean_absolute_error(y_test,y_pred_lintest)\n",
    "MAE_Politest = mean_absolute_error(y_test_poli,y_pred_politest)\n",
    "MAE_KNNtest = mean_absolute_error(y_test,y_pred_knntest)\n",
    "MAE_Lassotest = mean_absolute_error(y_test,y_pred_lassotest)\n",
    "MAE_Ridgetest = mean_absolute_error(y_test,y_pred_ridgetest)\n",
    "MAE_ENtest = mean_absolute_error(y_test,y_pred_ENtest)\n",
    "MAE_RFtest = mean_absolute_error(y_test,y_pred_RFtest)\n",
    "MAE_XGBtest = mean_absolute_error(y_test,y_pred_XGBtest)\n",
    "\n",
    "MSE_Lintest = mean_squared_error(y_test, y_pred_lintest)\n",
    "MSE_Politest = mean_squared_error(y_test_poli, y_pred_politest)\n",
    "MSE_KNNtest = mean_squared_error(y_test, y_pred_knntest)\n",
    "MSE_Lassotest = mean_squared_error(y_test, y_pred_lassotest)\n",
    "MSE_Ridgetest = mean_squared_error(y_test, y_pred_ridgetest)\n",
    "MSE_ENtest = mean_squared_error(y_test, y_pred_ENtest)\n",
    "MSE_RFtest = mean_squared_error(y_test, y_pred_RFtest)\n",
    "MSE_XGBtest = mean_squared_error(y_test, y_pred_XGBtest)\n",
    "\n",
    "RMSE_Lintest = np.sqrt(MSE_Lintest)\n",
    "RMSE_Politest = np.sqrt(MSE_Politest)\n",
    "RMSE_KNNtest = np.sqrt(MSE_KNNtest)\n",
    "RMSE_Lassotest = np.sqrt(MSE_Lassotest)\n",
    "RMSE_Ridgetest = np.sqrt(MSE_Ridgetest)\n",
    "RMSE_ENtest = np.sqrt(MSE_ENtest)\n",
    "RMSE_RFtest = np.sqrt(MSE_RFtest)\n",
    "RMSE_XGBtest = np.sqrt(MSE_XGBtest)\n",
    "\n",
    "R2_Lintest = r2_score(y_test, y_pred_lintest)\n",
    "R2_Politest = r2_score(y_test_poli, y_pred_politest)\n",
    "R2_KNNtest = r2_score(y_test, y_pred_knntest)\n",
    "R2_Lassotest = r2_score(y_test, y_pred_lassotest)\n",
    "R2_Ridgetest = r2_score(y_test, y_pred_ridgetest)\n",
    "R2_ENtest = r2_score(y_test, y_pred_ENtest)\n",
    "R2_RFtest = r2_score(y_test, y_pred_RFtest)\n",
    "R2_XGBtest = r2_score(y_test, y_pred_XGBtest)"
   ]
  },
  {
   "cell_type": "code",
   "execution_count": 28,
   "metadata": {},
   "outputs": [
    {
     "data": {
      "text/html": [
       "<div>\n",
       "<style scoped>\n",
       "    .dataframe tbody tr th:only-of-type {\n",
       "        vertical-align: middle;\n",
       "    }\n",
       "\n",
       "    .dataframe tbody tr th {\n",
       "        vertical-align: top;\n",
       "    }\n",
       "\n",
       "    .dataframe thead th {\n",
       "        text-align: right;\n",
       "    }\n",
       "</style>\n",
       "<table border=\"1\" class=\"dataframe\">\n",
       "  <thead>\n",
       "    <tr style=\"text-align: right;\">\n",
       "      <th></th>\n",
       "      <th>Linreg Training</th>\n",
       "      <th>Linreg Test</th>\n",
       "      <th>Polyreg Training</th>\n",
       "      <th>Polyreg Test</th>\n",
       "      <th>KNN Training</th>\n",
       "      <th>KNN Test</th>\n",
       "      <th>Lasso Training</th>\n",
       "      <th>Lasso Test</th>\n",
       "      <th>Ridge Training</th>\n",
       "      <th>Ridge Test</th>\n",
       "      <th>EN Training</th>\n",
       "      <th>EN Test</th>\n",
       "      <th>RF Training</th>\n",
       "      <th>RF Test</th>\n",
       "      <th>XGB Training</th>\n",
       "      <th>XGB Test</th>\n",
       "    </tr>\n",
       "  </thead>\n",
       "  <tbody>\n",
       "    <tr>\n",
       "      <th>MAE</th>\n",
       "      <td>9.480224e+04</td>\n",
       "      <td>9.889474e+04</td>\n",
       "      <td>6.777670e+04</td>\n",
       "      <td>7.925705e+04</td>\n",
       "      <td>1.308828e+05</td>\n",
       "      <td>1.653922e+05</td>\n",
       "      <td>9.480532e+04</td>\n",
       "      <td>9.890335e+04</td>\n",
       "      <td>9.480790e+04</td>\n",
       "      <td>9.895278e+04</td>\n",
       "      <td>1.423673e+05</td>\n",
       "      <td>1.480497e+05</td>\n",
       "      <td>2.497721e+04</td>\n",
       "      <td>7.081937e+04</td>\n",
       "      <td>4.077032e+04</td>\n",
       "      <td>6.698285e+04</td>\n",
       "    </tr>\n",
       "    <tr>\n",
       "      <th>MSE</th>\n",
       "      <td>2.521377e+10</td>\n",
       "      <td>2.957933e+10</td>\n",
       "      <td>1.159734e+10</td>\n",
       "      <td>2.048481e+10</td>\n",
       "      <td>4.536964e+10</td>\n",
       "      <td>7.109772e+10</td>\n",
       "      <td>2.521382e+10</td>\n",
       "      <td>2.958058e+10</td>\n",
       "      <td>2.521676e+10</td>\n",
       "      <td>2.957416e+10</td>\n",
       "      <td>4.947927e+10</td>\n",
       "      <td>5.703557e+10</td>\n",
       "      <td>2.244423e+09</td>\n",
       "      <td>1.721201e+10</td>\n",
       "      <td>3.255662e+09</td>\n",
       "      <td>1.484405e+10</td>\n",
       "    </tr>\n",
       "    <tr>\n",
       "      <th>RMSE</th>\n",
       "      <td>1.587885e+05</td>\n",
       "      <td>1.719864e+05</td>\n",
       "      <td>1.076909e+05</td>\n",
       "      <td>1.431251e+05</td>\n",
       "      <td>2.130015e+05</td>\n",
       "      <td>2.666415e+05</td>\n",
       "      <td>1.587886e+05</td>\n",
       "      <td>1.719901e+05</td>\n",
       "      <td>1.587978e+05</td>\n",
       "      <td>1.719714e+05</td>\n",
       "      <td>2.224394e+05</td>\n",
       "      <td>2.388212e+05</td>\n",
       "      <td>4.737534e+04</td>\n",
       "      <td>1.311946e+05</td>\n",
       "      <td>5.705841e+04</td>\n",
       "      <td>1.218361e+05</td>\n",
       "    </tr>\n",
       "    <tr>\n",
       "      <th>R2</th>\n",
       "      <td>8.112074e-01</td>\n",
       "      <td>7.969555e-01</td>\n",
       "      <td>9.131629e-01</td>\n",
       "      <td>8.593840e-01</td>\n",
       "      <td>6.602868e-01</td>\n",
       "      <td>5.119566e-01</td>\n",
       "      <td>8.112071e-01</td>\n",
       "      <td>7.969470e-01</td>\n",
       "      <td>8.111851e-01</td>\n",
       "      <td>7.969911e-01</td>\n",
       "      <td>6.295153e-01</td>\n",
       "      <td>6.084848e-01</td>\n",
       "      <td>9.831945e-01</td>\n",
       "      <td>8.818498e-01</td>\n",
       "      <td>9.756227e-01</td>\n",
       "      <td>8.981045e-01</td>\n",
       "    </tr>\n",
       "  </tbody>\n",
       "</table>\n",
       "</div>"
      ],
      "text/plain": [
       "      Linreg Training   Linreg Test  Polyreg Training  Polyreg Test  \\\n",
       "MAE      9.480224e+04  9.889474e+04      6.777670e+04  7.925705e+04   \n",
       "MSE      2.521377e+10  2.957933e+10      1.159734e+10  2.048481e+10   \n",
       "RMSE     1.587885e+05  1.719864e+05      1.076909e+05  1.431251e+05   \n",
       "R2       8.112074e-01  7.969555e-01      9.131629e-01  8.593840e-01   \n",
       "\n",
       "      KNN Training      KNN Test  Lasso Training    Lasso Test  \\\n",
       "MAE   1.308828e+05  1.653922e+05    9.480532e+04  9.890335e+04   \n",
       "MSE   4.536964e+10  7.109772e+10    2.521382e+10  2.958058e+10   \n",
       "RMSE  2.130015e+05  2.666415e+05    1.587886e+05  1.719901e+05   \n",
       "R2    6.602868e-01  5.119566e-01    8.112071e-01  7.969470e-01   \n",
       "\n",
       "      Ridge Training    Ridge Test   EN Training       EN Test   RF Training  \\\n",
       "MAE     9.480790e+04  9.895278e+04  1.423673e+05  1.480497e+05  2.497721e+04   \n",
       "MSE     2.521676e+10  2.957416e+10  4.947927e+10  5.703557e+10  2.244423e+09   \n",
       "RMSE    1.587978e+05  1.719714e+05  2.224394e+05  2.388212e+05  4.737534e+04   \n",
       "R2      8.111851e-01  7.969911e-01  6.295153e-01  6.084848e-01  9.831945e-01   \n",
       "\n",
       "           RF Test  XGB Training      XGB Test  \n",
       "MAE   7.081937e+04  4.077032e+04  6.698285e+04  \n",
       "MSE   1.721201e+10  3.255662e+09  1.484405e+10  \n",
       "RMSE  1.311946e+05  5.705841e+04  1.218361e+05  \n",
       "R2    8.818498e-01  9.756227e-01  8.981045e-01  "
      ]
     },
     "execution_count": 28,
     "metadata": {},
     "output_type": "execute_result"
    }
   ],
   "source": [
    "data = {\n",
    "    \"Linreg Training\" : [MAE_Lin, MSE_Lin, RMSE_Lin, R2_Lin],\n",
    "    \"Linreg Test\" : [MAE_Lintest, MSE_Lintest, RMSE_Lintest, R2_Lintest],\n",
    "    \"Polyreg Training\" : [MAE_Poli, MSE_Poli, RMSE_Poli, R2_Poli],\n",
    "    \"Polyreg Test\" : [MAE_Politest, MSE_Politest, RMSE_Politest, R2_Politest],\n",
    "    \"KNN Training\" : [MAE_KNN, MSE_KNN, RMSE_KNN, R2_KNN],\n",
    "    \"KNN Test\" : [MAE_KNNtest, MSE_KNNtest, RMSE_KNNtest, R2_KNNtest],\n",
    "    \"Lasso Training\" : [MAE_Lasso, MSE_Lasso, RMSE_Lasso, R2_Lasso],\n",
    "    \"Lasso Test\" : [MAE_Lassotest, MSE_Lassotest, RMSE_Lassotest, R2_Lassotest],\n",
    "    \"Ridge Training\" : [MAE_Ridge, MSE_Ridge, RMSE_Ridge, R2_Ridge],\n",
    "    \"Ridge Test\" : [MAE_Ridgetest, MSE_Ridgetest, RMSE_Ridgetest, R2_Ridgetest],\n",
    "    \"EN Training\" : [MAE_EN, MSE_EN, RMSE_EN, R2_EN],\n",
    "    \"EN Test\" : [MAE_ENtest, MSE_ENtest, RMSE_ENtest, R2_ENtest],\n",
    "    \"RF Training\" : [MAE_RF, MSE_RF, RMSE_RF, R2_RF],\n",
    "    \"RF Test\" : [MAE_RFtest, MSE_RFtest, RMSE_RFtest, R2_RFtest],\n",
    "    \"XGB Training\" : [MAE_XGB, MSE_XGB, RMSE_XGB, R2_XGB],\n",
    "    \"XGB Test\" : [MAE_XGBtest, MSE_XGBtest, RMSE_XGBtest, R2_XGBtest]\n",
    "}\n",
    "pd.DataFrame(data=data, index=['MAE', 'MSE', 'RMSE', 'R2'])"
   ]
  },
  {
   "cell_type": "markdown",
   "metadata": {},
   "source": [
    "**Hyperparameter Tuning**"
   ]
  },
  {
   "cell_type": "code",
   "execution_count": 29,
   "metadata": {},
   "outputs": [],
   "source": [
    "Param_LR = {\n",
    "    \"fit_intercept\" : [True]\n",
    "}\n",
    "\n",
    "Param_PR = {\n",
    "    \"fit_intercept\" : [True,False]\n",
    "}\n",
    "\n",
    "Param_KNN = {\n",
    "    \"n_neighbors\" : [1,5,15,33],\n",
    "    \"weights\" : [\"distance\",\"uniform\"],\n",
    "    \"leaf_size\" : [1,3,7]\n",
    "}\n",
    "\n",
    "Param_Lasso = {\n",
    "    \"alpha\" : [1.0,2.0],\n",
    "    \"fit_intercept\" : [True,False],\n",
    "    \"normalize\" : [True, False],\n",
    "#     \"precompute\" : [True, False],\n",
    "    \"copy_X\" : [True],\n",
    "#     \"max_iter\" : [1000, 100000],\n",
    "#     \"tol\" : [0.0001],\n",
    "#     \"warm_start\" : [False],\n",
    "#     \"positive\" : [False]\n",
    "}\n",
    "\n",
    "Param_Ridge = {\n",
    "    \"alpha\" : [1.0,2.0],\n",
    "    \"fit_intercept\" : [True,False],\n",
    "    \"normalize\" : [True, False],\n",
    "#     \"precompute\" : [True, False],\n",
    "    \"copy_X\" : [True],\n",
    "#     \"max_iter\" : [1000, 100000],\n",
    "#     \"tol\" : [0.0001]\n",
    "}\n",
    "\n",
    "Param_EN = {\n",
    "    \"alpha\" : [1.0],\n",
    "    \"l1_ratio\" : [0.2, 0.5, 0.8],\n",
    "    \"fit_intercept\" : [True],\n",
    "    \"normalize\" : [True, False],\n",
    "#     \"precompute\" : [False],\n",
    "#     \"max_iter\" : [1000],\n",
    "    \"copy_X\" : [True],\n",
    "#     \"tol\" : [0.0001],\n",
    "#     \"warm_start\" : [False],\n",
    "#     \"positive\" : [False]\n",
    "}\n",
    "\n",
    "Param_RF = {\n",
    "    \"n_estimators\" : [20,50,100],\n",
    "    #\"max_depth\" : [8],\n",
    "    \"min_samples_split\" : [2,5,15,30],\n",
    "    \"min_samples_leaf\" : [1,2,5]\n",
    "}\n",
    "\n",
    "Param_XGB = {\n",
    "    \"max_depth\" : [4],\n",
    "    \"learning_rate\" : [0.3],\n",
    "    \"n_estimators\" : [500],\n",
    "#     \"gamma\" : [2, 10],\n",
    "#     \"colsample_bytree\" : [0.2, 0.9],\n",
    "#     \"subsample\" : [0.2, 0.9],\n",
    "#     \"reg_alpha\" : [1],\n",
    "#     \"reg_lambda\" : [1]\n",
    "}"
   ]
  },
  {
   "cell_type": "code",
   "execution_count": 30,
   "metadata": {},
   "outputs": [],
   "source": [
    "from sklearn.model_selection import GridSearchCV"
   ]
  },
  {
   "cell_type": "markdown",
   "metadata": {},
   "source": [
    "**Model 1**"
   ]
  },
  {
   "cell_type": "code",
   "execution_count": 31,
   "metadata": {},
   "outputs": [
    {
     "name": "stdout",
     "output_type": "stream",
     "text": [
      "Fitting 3 folds for each of 1 candidates, totalling 3 fits\n"
     ]
    },
    {
     "name": "stderr",
     "output_type": "stream",
     "text": [
      "[Parallel(n_jobs=-1)]: Using backend LokyBackend with 6 concurrent workers.\n",
      "[Parallel(n_jobs=-1)]: Done   3 out of   3 | elapsed:    1.8s finished\n"
     ]
    },
    {
     "name": "stdout",
     "output_type": "stream",
     "text": [
      "Best Score : 0.8067340929386462\n",
      "Tuned R2 LinReg Train :  0.8112074259983655\n",
      "Tuned R2 LinReg Test :  0.796955517619208\n"
     ]
    }
   ],
   "source": [
    "model_tuned_1 = GridSearchCV(estimator=modelLin, param_grid=Param_LR, cv = 3, n_jobs=-1, verbose=1, scoring='r2')\n",
    "\n",
    "model_tuned_1.fit(X_train, y_train)\n",
    "model_tuned_1.best_score_\n",
    "model_tuned_1_1 = model_tuned_1.best_estimator_\n",
    "y_tune_1_train = model_tuned_1_1.predict(X_train)\n",
    "y_tune_1_test = model_tuned_1_1.predict(X_test)\n",
    "\n",
    "R2_LRtrain = r2_score(y_train, y_tune_1_train)\n",
    "R2_LRtest = r2_score(y_test, y_tune_1_test)\n",
    "\n",
    "print('Best Score :',model_tuned_1.best_score_)\n",
    "print('Tuned R2 LinReg Train : ', R2_LRtrain)\n",
    "print('Tuned R2 LinReg Test : ', R2_LRtest)"
   ]
  },
  {
   "cell_type": "markdown",
   "metadata": {},
   "source": [
    "**Model 1_Poli**"
   ]
  },
  {
   "cell_type": "code",
   "execution_count": 32,
   "metadata": {},
   "outputs": [
    {
     "name": "stdout",
     "output_type": "stream",
     "text": [
      "Fitting 3 folds for each of 2 candidates, totalling 6 fits\n"
     ]
    },
    {
     "name": "stderr",
     "output_type": "stream",
     "text": [
      "[Parallel(n_jobs=-1)]: Using backend LokyBackend with 6 concurrent workers.\n",
      "[Parallel(n_jobs=-1)]: Done   2 out of   6 | elapsed:  2.0min remaining:  4.0min\n",
      "[Parallel(n_jobs=-1)]: Done   6 out of   6 | elapsed:  2.1min finished\n"
     ]
    },
    {
     "name": "stdout",
     "output_type": "stream",
     "text": [
      "Best Score : 0.8318011753428528\n",
      "Tuned R2 PoliReg Train :  0.9131628663372079\n",
      "Tuned R2 PoliReg Test :  0.8593840152883079\n"
     ]
    }
   ],
   "source": [
    "model_tuned_1_poli = GridSearchCV(estimator=modelPoli, param_grid=Param_PR, cv = 3, n_jobs=-1, verbose=1, scoring='r2')\n",
    "\n",
    "model_tuned_1_poli.fit(X_train_poli, y_train_poli)\n",
    "model_tuned_1_poli.best_score_\n",
    "model_tuned_1_1_poli = model_tuned_1_poli.best_estimator_\n",
    "y_tune_1_poli_train = model_tuned_1_1_poli.predict(X_train_poli)\n",
    "y_tune_1_poli_test = model_tuned_1_1_poli.predict(X_test_poli)\n",
    "\n",
    "R2_PRtrain = r2_score(y_train_poli, y_tune_1_poli_train)\n",
    "R2_PRtest = r2_score(y_test_poli, y_tune_1_poli_test)\n",
    "\n",
    "print('Best Score :',model_tuned_1_poli.best_score_)\n",
    "print('Tuned R2 PoliReg Train : ', R2_PRtrain)\n",
    "print('Tuned R2 PoliReg Test : ', R2_PRtest)"
   ]
  },
  {
   "cell_type": "markdown",
   "metadata": {},
   "source": [
    "**Model 2**"
   ]
  },
  {
   "cell_type": "code",
   "execution_count": 33,
   "metadata": {},
   "outputs": [
    {
     "name": "stdout",
     "output_type": "stream",
     "text": [
      "Fitting 3 folds for each of 24 candidates, totalling 72 fits\n"
     ]
    },
    {
     "name": "stderr",
     "output_type": "stream",
     "text": [
      "[Parallel(n_jobs=-1)]: Using backend LokyBackend with 6 concurrent workers.\n",
      "[Parallel(n_jobs=-1)]: Done  38 tasks      | elapsed:   18.2s\n",
      "[Parallel(n_jobs=-1)]: Done  72 out of  72 | elapsed:   29.6s finished\n"
     ]
    },
    {
     "name": "stdout",
     "output_type": "stream",
     "text": [
      "Best Score : 0.4733755384948741\n",
      "Tuned R2 KNN Train :  1.0\n",
      "Tuned R2 KNN Test :  0.5229359986275419\n"
     ]
    }
   ],
   "source": [
    "model_tuned_2 = GridSearchCV(estimator=modelKNN, param_grid=Param_KNN, cv = 3, n_jobs=-1, verbose=1, scoring='r2')\n",
    "\n",
    "model_tuned_2.fit(X_train, y_train)\n",
    "model_tuned_2.best_score_\n",
    "model_tuned_2_1 = model_tuned_2.best_estimator_\n",
    "y_tune_2_train = model_tuned_2_1.predict(X_train)\n",
    "y_tune_2_test = model_tuned_2_1.predict(X_test)\n",
    "\n",
    "R2_KNNtrain = r2_score(y_train, y_tune_2_train)\n",
    "R2_KNNtest = r2_score(y_test, y_tune_2_test)\n",
    "\n",
    "print('Best Score :',model_tuned_2.best_score_)\n",
    "print('Tuned R2 KNN Train : ', R2_KNNtrain)\n",
    "print('Tuned R2 KNN Test : ', R2_KNNtest)"
   ]
  },
  {
   "cell_type": "markdown",
   "metadata": {},
   "source": [
    "**Model 3**"
   ]
  },
  {
   "cell_type": "code",
   "execution_count": 34,
   "metadata": {},
   "outputs": [
    {
     "name": "stdout",
     "output_type": "stream",
     "text": [
      "Fitting 3 folds for each of 8 candidates, totalling 24 fits\n"
     ]
    },
    {
     "name": "stderr",
     "output_type": "stream",
     "text": [
      "[Parallel(n_jobs=-1)]: Using backend LokyBackend with 6 concurrent workers.\n",
      "[Parallel(n_jobs=-1)]: Done  24 out of  24 | elapsed:   11.3s finished\n"
     ]
    },
    {
     "name": "stdout",
     "output_type": "stream",
     "text": [
      "Best Score : 0.8067336807863207\n",
      "Tuned R2 Lasso Train :  0.8112070785376753\n",
      "Tuned R2 Lasso Test :  0.7969469564468864\n"
     ]
    }
   ],
   "source": [
    "model_tuned_3 = GridSearchCV(estimator=modelLasso, param_grid=Param_Lasso, cv = 3, n_jobs=-1, verbose=1, scoring='r2')\n",
    "\n",
    "model_tuned_3.fit(X_train, y_train)\n",
    "model_tuned_3.best_score_\n",
    "model_tuned_3_1 = model_tuned_3.best_estimator_\n",
    "y_tune_3_train = model_tuned_3_1.predict(X_train)\n",
    "y_tune_3_test = model_tuned_3_1.predict(X_test)\n",
    "\n",
    "R2_Lassotrain = r2_score(y_train, y_tune_3_train)\n",
    "R2_Lassotest = r2_score(y_test, y_tune_3_test)\n",
    "\n",
    "print('Best Score :',model_tuned_3.best_score_)\n",
    "print('Tuned R2 Lasso Train : ', R2_Lassotrain)\n",
    "print('Tuned R2 Lasso Test : ', R2_Lassotest)"
   ]
  },
  {
   "cell_type": "markdown",
   "metadata": {},
   "source": [
    "**Model 4**"
   ]
  },
  {
   "cell_type": "code",
   "execution_count": 35,
   "metadata": {},
   "outputs": [
    {
     "name": "stdout",
     "output_type": "stream",
     "text": [
      "Fitting 3 folds for each of 8 candidates, totalling 24 fits\n"
     ]
    },
    {
     "name": "stderr",
     "output_type": "stream",
     "text": [
      "[Parallel(n_jobs=-1)]: Using backend LokyBackend with 6 concurrent workers.\n"
     ]
    },
    {
     "name": "stdout",
     "output_type": "stream",
     "text": [
      "Best Score : 0.8067516982919659\n",
      "Tuned R2 Ridge Train :  0.8111850877165274\n",
      "Tuned R2 Ridge Test :  0.7969910658155861\n"
     ]
    },
    {
     "name": "stderr",
     "output_type": "stream",
     "text": [
      "[Parallel(n_jobs=-1)]: Done  24 out of  24 | elapsed:    0.2s finished\n"
     ]
    }
   ],
   "source": [
    "model_tuned_4 = GridSearchCV(estimator=modelRidge, param_grid=Param_Ridge, cv = 3, n_jobs=-1, verbose=1, scoring='r2')\n",
    "\n",
    "model_tuned_4.fit(X_train, y_train)\n",
    "model_tuned_4.best_score_\n",
    "model_tuned_4_1 = model_tuned_4.best_estimator_\n",
    "y_tune_4_train = model_tuned_4_1.predict(X_train)\n",
    "y_tune_4_test = model_tuned_4_1.predict(X_test)\n",
    "\n",
    "R2_Ridgetrain = r2_score(y_train, y_tune_4_train)\n",
    "R2_Ridgetest = r2_score(y_test, y_tune_4_test)\n",
    "\n",
    "print('Best Score :',model_tuned_4.best_score_)\n",
    "print('Tuned R2 Ridge Train : ', R2_Ridgetrain)\n",
    "print('Tuned R2 Ridge Test : ', R2_Ridgetest)"
   ]
  },
  {
   "cell_type": "markdown",
   "metadata": {},
   "source": [
    "**Model 5**"
   ]
  },
  {
   "cell_type": "code",
   "execution_count": 36,
   "metadata": {},
   "outputs": [
    {
     "name": "stderr",
     "output_type": "stream",
     "text": [
      "[Parallel(n_jobs=-1)]: Using backend LokyBackend with 6 concurrent workers.\n"
     ]
    },
    {
     "name": "stdout",
     "output_type": "stream",
     "text": [
      "Fitting 3 folds for each of 6 candidates, totalling 18 fits\n"
     ]
    },
    {
     "name": "stderr",
     "output_type": "stream",
     "text": [
      "[Parallel(n_jobs=-1)]: Done  18 out of  18 | elapsed:    6.3s finished\n"
     ]
    },
    {
     "name": "stdout",
     "output_type": "stream",
     "text": [
      "Best Score : 0.6543365562958866\n",
      "Tuned R2 EN Train :  0.6558446958249907\n",
      "Tuned R2 EN Test :  0.6371040818453937\n"
     ]
    }
   ],
   "source": [
    "model_tuned_5 = GridSearchCV(estimator=modelEN, param_grid=Param_EN, cv = 3, n_jobs=-1, verbose=1, scoring='r2')\n",
    "\n",
    "model_tuned_5.fit(X_train, y_train)\n",
    "model_tuned_5.best_score_\n",
    "model_tuned_5_1 = model_tuned_5.best_estimator_\n",
    "y_tune_5_train = model_tuned_5_1.predict(X_train)\n",
    "y_tune_5_test = model_tuned_5_1.predict(X_test)\n",
    "\n",
    "R2_ENtrain = r2_score(y_train, y_tune_5_train)\n",
    "R2_ENtest = r2_score(y_test, y_tune_5_test)\n",
    "\n",
    "print('Best Score :',model_tuned_5.best_score_)\n",
    "print('Tuned R2 EN Train : ', R2_ENtrain)\n",
    "print('Tuned R2 EN Test : ', R2_ENtest)"
   ]
  },
  {
   "cell_type": "markdown",
   "metadata": {},
   "source": [
    "**Model 6**"
   ]
  },
  {
   "cell_type": "code",
   "execution_count": 37,
   "metadata": {},
   "outputs": [
    {
     "name": "stdout",
     "output_type": "stream",
     "text": [
      "Fitting 3 folds for each of 36 candidates, totalling 108 fits\n"
     ]
    },
    {
     "name": "stderr",
     "output_type": "stream",
     "text": [
      "[Parallel(n_jobs=-1)]: Using backend LokyBackend with 6 concurrent workers.\n",
      "[Parallel(n_jobs=-1)]: Done  38 tasks      | elapsed:  1.0min\n",
      "[Parallel(n_jobs=-1)]: Done 108 out of 108 | elapsed:  2.6min finished\n"
     ]
    },
    {
     "name": "stdout",
     "output_type": "stream",
     "text": [
      "Best Score : 0.8774180658457252\n",
      "Tuned R2 RF Train :  0.9768738419446336\n",
      "Tuned R2 RF Test :  0.8851888085418452\n"
     ]
    }
   ],
   "source": [
    "model_tuned_6 = GridSearchCV(estimator=modelRF, param_grid=Param_RF, cv = 3, n_jobs=-1, verbose=1, scoring='r2')\n",
    "\n",
    "model_tuned_6.fit(X_train, y_train)\n",
    "model_tuned_6.best_score_\n",
    "model_tuned_6_1 = model_tuned_6.best_estimator_\n",
    "y_tune_6_train = model_tuned_6_1.predict(X_train)\n",
    "y_tune_6_test = model_tuned_6_1.predict(X_test)\n",
    "\n",
    "R2_RFtrain = r2_score(y_train, y_tune_6_train)\n",
    "R2_RFtest = r2_score(y_test, y_tune_6_test)\n",
    "\n",
    "print('Best Score :',model_tuned_6.best_score_)\n",
    "print('Tuned R2 RF Train : ', R2_RFtrain)\n",
    "print('Tuned R2 RF Test : ', R2_RFtest)"
   ]
  },
  {
   "cell_type": "markdown",
   "metadata": {},
   "source": [
    "**Model 7**"
   ]
  },
  {
   "cell_type": "code",
   "execution_count": 38,
   "metadata": {},
   "outputs": [
    {
     "name": "stdout",
     "output_type": "stream",
     "text": [
      "Fitting 3 folds for each of 1 candidates, totalling 3 fits\n"
     ]
    },
    {
     "name": "stderr",
     "output_type": "stream",
     "text": [
      "[Parallel(n_jobs=-1)]: Using backend LokyBackend with 6 concurrent workers.\n",
      "[Parallel(n_jobs=-1)]: Done   3 out of   3 | elapsed:   14.3s finished\n"
     ]
    },
    {
     "name": "stdout",
     "output_type": "stream",
     "text": [
      "Best Score : 0.8967106572934337\n",
      "Tuned R2 XGB Train :  0.9811788877236389\n",
      "Tuned R2 XGB Test :  0.9049635910461803\n"
     ]
    }
   ],
   "source": [
    "model_tuned_7 = GridSearchCV(estimator=modelXGB, param_grid=Param_XGB, cv = 3, n_jobs=-1, verbose=1, scoring='r2')\n",
    "\n",
    "model_tuned_7.fit(X_train, y_train)\n",
    "model_tuned_7.best_score_\n",
    "model_tuned_7_1 = model_tuned_7.best_estimator_\n",
    "y_tune_7_train = model_tuned_7_1.predict(X_train)\n",
    "y_tune_7_test = model_tuned_7_1.predict(X_test)\n",
    "\n",
    "R2_XGBtrain = r2_score(y_train, y_tune_7_train)\n",
    "R2_XGBtest = r2_score(y_test, y_tune_7_test)\n",
    "\n",
    "print('Best Score :',model_tuned_7.best_score_)\n",
    "print('Tuned R2 XGB Train : ', R2_XGBtrain)\n",
    "print('Tuned R2 XGB Test : ', R2_XGBtest)"
   ]
  },
  {
   "cell_type": "markdown",
   "metadata": {},
   "source": [
    "**Evaluation Metrics Tuned**"
   ]
  },
  {
   "cell_type": "code",
   "execution_count": 39,
   "metadata": {},
   "outputs": [],
   "source": [
    "y_pred_lintr_tuned = model_tuned_1_1.predict(X_train)\n",
    "y_pred_politr_tuned = model_tuned_1_1_poli.predict(X_train_poli)\n",
    "y_pred_knntr_tuned = model_tuned_2_1.predict(X_train)\n",
    "y_pred_lassotr_tuned = model_tuned_3_1.predict(X_train)\n",
    "y_pred_ridgetr_tuned = model_tuned_4_1.predict(X_train)\n",
    "y_pred_ENtr_tuned = model_tuned_5_1.predict(X_train)\n",
    "y_pred_RFtr_tuned = model_tuned_6_1.predict(X_train)\n",
    "y_pred_XGBtr_tuned = model_tuned_7_1.predict(X_train)\n",
    "\n",
    "MAE_Lintr = mean_absolute_error(y_train,y_pred_lintr_tuned)\n",
    "MAE_Politr = mean_absolute_error(y_train_poli,y_pred_politr_tuned)\n",
    "MAE_KNNtr = mean_absolute_error(y_train,y_pred_knntr_tuned)\n",
    "MAE_Lassotr = mean_absolute_error(y_train,y_pred_lassotr_tuned)\n",
    "MAE_Ridgetr = mean_absolute_error(y_train,y_pred_ridgetr_tuned)\n",
    "MAE_ENtr = mean_absolute_error(y_train,y_pred_ENtr_tuned)\n",
    "MAE_RFtr = mean_absolute_error(y_train,y_pred_RFtr_tuned)\n",
    "MAE_XGBtr = mean_absolute_error(y_train,y_pred_XGBtr_tuned)\n",
    "\n",
    "MSE_Lintr = mean_squared_error(y_train, y_pred_lintr_tuned)\n",
    "MSE_Politr = mean_squared_error(y_train_poli, y_pred_politr_tuned)\n",
    "MSE_KNNtr = mean_squared_error(y_train, y_pred_knntr_tuned)\n",
    "MSE_Lassotr = mean_squared_error(y_train, y_pred_lassotr_tuned)\n",
    "MSE_Ridgetr = mean_squared_error(y_train, y_pred_ridgetr_tuned)\n",
    "MSE_ENtr = mean_squared_error(y_train, y_pred_ENtr_tuned)\n",
    "MSE_RFtr = mean_squared_error(y_train, y_pred_RFtr_tuned)\n",
    "MSE_XGBtr = mean_squared_error(y_train, y_pred_XGBtr_tuned)\n",
    "\n",
    "RMSE_Lintr = np.sqrt(MSE_Lintr)\n",
    "RMSE_Politr = np.sqrt(MSE_Politr)\n",
    "RMSE_KNNtr = np.sqrt(MSE_KNNtr)\n",
    "RMSE_Lassotr = np.sqrt(MSE_Lassotr)\n",
    "RMSE_Ridgetr = np.sqrt(MSE_Ridgetr)\n",
    "RMSE_ENtr = np.sqrt(MSE_ENtr)\n",
    "RMSE_RFtr = np.sqrt(MSE_RFtr)\n",
    "RMSE_XGBtr = np.sqrt(MSE_XGBtr)\n",
    "\n",
    "R2_Lintr = r2_score(y_train, y_pred_lintr_tuned)\n",
    "R2_Politr = r2_score(y_train_poli, y_pred_politr_tuned)\n",
    "R2_KNNtr = r2_score(y_train, y_pred_knntr_tuned)\n",
    "R2_Lassotr = r2_score(y_train, y_pred_lassotr_tuned)\n",
    "R2_Ridgetr = r2_score(y_train, y_pred_ridgetr_tuned)\n",
    "R2_ENtr = r2_score(y_train, y_pred_ENtr_tuned)\n",
    "R2_RFtr = r2_score(y_train, y_pred_RFtr_tuned)\n",
    "R2_XGBtr = r2_score(y_train, y_pred_XGBtr_tuned)\n",
    "\n",
    "\n",
    "y_pred_lints_tuned = model_tuned_1_1.predict(X_test)\n",
    "y_pred_polits_tuned = model_tuned_1_1_poli.predict(X_test_poli)\n",
    "y_pred_knnts_tuned = model_tuned_2_1.predict(X_test)\n",
    "y_pred_lassots_tuned = model_tuned_3_1.predict(X_test)\n",
    "y_pred_ridgets_tuned = model_tuned_4_1.predict(X_test)\n",
    "y_pred_ENts_tuned = model_tuned_5_1.predict(X_test)\n",
    "y_pred_RFts_tuned = model_tuned_6_1.predict(X_test)\n",
    "y_pred_XGBts_tuned = model_tuned_7_1.predict(X_test)\n",
    "\n",
    "MAE_Lints = mean_absolute_error(y_test,y_pred_lints_tuned)\n",
    "MAE_Polits = mean_absolute_error(y_test_poli,y_pred_polits_tuned)\n",
    "MAE_KNNts = mean_absolute_error(y_test,y_pred_knnts_tuned)\n",
    "MAE_Lassots = mean_absolute_error(y_test,y_pred_lassots_tuned)\n",
    "MAE_Ridgets = mean_absolute_error(y_test,y_pred_ridgets_tuned)\n",
    "MAE_ENts = mean_absolute_error(y_test,y_pred_ENts_tuned)\n",
    "MAE_RFts = mean_absolute_error(y_test,y_pred_RFts_tuned)\n",
    "MAE_XGBts = mean_absolute_error(y_test,y_pred_XGBts_tuned)\n",
    "\n",
    "MSE_Lints = mean_squared_error(y_test, y_pred_lints_tuned)\n",
    "MSE_Polits = mean_squared_error(y_test_poli, y_pred_polits_tuned)\n",
    "MSE_KNNts = mean_squared_error(y_test, y_pred_knnts_tuned)\n",
    "MSE_Lassots = mean_squared_error(y_test, y_pred_lassots_tuned)\n",
    "MSE_Ridgets = mean_squared_error(y_test, y_pred_ridgets_tuned)\n",
    "MSE_ENts = mean_squared_error(y_test, y_pred_ENts_tuned)\n",
    "MSE_RFts = mean_squared_error(y_test, y_pred_RFts_tuned)\n",
    "MSE_XGBts = mean_squared_error(y_test, y_pred_XGBts_tuned)\n",
    "\n",
    "RMSE_Lints = np.sqrt(MSE_Lints)\n",
    "RMSE_Polits = np.sqrt(MSE_Polits)\n",
    "RMSE_KNNts = np.sqrt(MSE_KNNts)\n",
    "RMSE_Lassots = np.sqrt(MSE_Lassots)\n",
    "RMSE_Ridgets = np.sqrt(MSE_Ridgets)\n",
    "RMSE_ENts = np.sqrt(MSE_ENts)\n",
    "RMSE_RFts = np.sqrt(MSE_RFts)\n",
    "RMSE_XGBts = np.sqrt(MSE_XGBts)\n",
    "\n",
    "R2_Lints = r2_score(y_test, y_pred_lints_tuned)\n",
    "R2_Polits = r2_score(y_test_poli, y_pred_polits_tuned)\n",
    "R2_KNNts = r2_score(y_test, y_pred_knnts_tuned)\n",
    "R2_Lassots = r2_score(y_test, y_pred_lassots_tuned)\n",
    "R2_Ridgets = r2_score(y_test, y_pred_ridgets_tuned)\n",
    "R2_ENts = r2_score(y_test, y_pred_ENts_tuned)\n",
    "R2_RFts = r2_score(y_test, y_pred_RFts_tuned)\n",
    "R2_XGBts = r2_score(y_test, y_pred_XGBts_tuned)"
   ]
  },
  {
   "cell_type": "code",
   "execution_count": 40,
   "metadata": {},
   "outputs": [
    {
     "name": "stdout",
     "output_type": "stream",
     "text": [
      "Tuned\n"
     ]
    },
    {
     "data": {
      "text/html": [
       "<div>\n",
       "<style scoped>\n",
       "    .dataframe tbody tr th:only-of-type {\n",
       "        vertical-align: middle;\n",
       "    }\n",
       "\n",
       "    .dataframe tbody tr th {\n",
       "        vertical-align: top;\n",
       "    }\n",
       "\n",
       "    .dataframe thead th {\n",
       "        text-align: right;\n",
       "    }\n",
       "</style>\n",
       "<table border=\"1\" class=\"dataframe\">\n",
       "  <thead>\n",
       "    <tr style=\"text-align: right;\">\n",
       "      <th></th>\n",
       "      <th>Linreg Training</th>\n",
       "      <th>Linreg Test</th>\n",
       "      <th>Polireg Training</th>\n",
       "      <th>Polireg Test</th>\n",
       "      <th>KNN Training</th>\n",
       "      <th>KNN Test</th>\n",
       "      <th>Lasso Training</th>\n",
       "      <th>Lasso Test</th>\n",
       "      <th>Ridge Training</th>\n",
       "      <th>Ridge Test</th>\n",
       "      <th>EN Training</th>\n",
       "      <th>EN Test</th>\n",
       "      <th>RF Training</th>\n",
       "      <th>RF Test</th>\n",
       "      <th>XGB Training</th>\n",
       "      <th>XGB Test</th>\n",
       "    </tr>\n",
       "  </thead>\n",
       "  <tbody>\n",
       "    <tr>\n",
       "      <th>MAE</th>\n",
       "      <td>9.480224e+04</td>\n",
       "      <td>9.889474e+04</td>\n",
       "      <td>6.777670e+04</td>\n",
       "      <td>7.925705e+04</td>\n",
       "      <td>0.0</td>\n",
       "      <td>1.587584e+05</td>\n",
       "      <td>9.480532e+04</td>\n",
       "      <td>9.890335e+04</td>\n",
       "      <td>9.480790e+04</td>\n",
       "      <td>9.895278e+04</td>\n",
       "      <td>1.352519e+05</td>\n",
       "      <td>1.409625e+05</td>\n",
       "      <td>2.853330e+04</td>\n",
       "      <td>7.020933e+04</td>\n",
       "      <td>3.626775e+04</td>\n",
       "      <td>6.608320e+04</td>\n",
       "    </tr>\n",
       "    <tr>\n",
       "      <th>MSE</th>\n",
       "      <td>2.521377e+10</td>\n",
       "      <td>2.957933e+10</td>\n",
       "      <td>1.159734e+10</td>\n",
       "      <td>2.048481e+10</td>\n",
       "      <td>0.0</td>\n",
       "      <td>6.949825e+10</td>\n",
       "      <td>2.521382e+10</td>\n",
       "      <td>2.958058e+10</td>\n",
       "      <td>2.521676e+10</td>\n",
       "      <td>2.957416e+10</td>\n",
       "      <td>4.596290e+10</td>\n",
       "      <td>5.286635e+10</td>\n",
       "      <td>3.088563e+09</td>\n",
       "      <td>1.672559e+10</td>\n",
       "      <td>2.513612e+09</td>\n",
       "      <td>1.384482e+10</td>\n",
       "    </tr>\n",
       "    <tr>\n",
       "      <th>RMSE</th>\n",
       "      <td>1.587885e+05</td>\n",
       "      <td>1.719864e+05</td>\n",
       "      <td>1.076909e+05</td>\n",
       "      <td>1.431251e+05</td>\n",
       "      <td>0.0</td>\n",
       "      <td>2.636252e+05</td>\n",
       "      <td>1.587886e+05</td>\n",
       "      <td>1.719901e+05</td>\n",
       "      <td>1.587978e+05</td>\n",
       "      <td>1.719714e+05</td>\n",
       "      <td>2.143896e+05</td>\n",
       "      <td>2.299268e+05</td>\n",
       "      <td>5.557484e+04</td>\n",
       "      <td>1.293275e+05</td>\n",
       "      <td>5.013593e+04</td>\n",
       "      <td>1.176640e+05</td>\n",
       "    </tr>\n",
       "    <tr>\n",
       "      <th>R2</th>\n",
       "      <td>8.112074e-01</td>\n",
       "      <td>7.969555e-01</td>\n",
       "      <td>9.131629e-01</td>\n",
       "      <td>8.593840e-01</td>\n",
       "      <td>1.0</td>\n",
       "      <td>5.229360e-01</td>\n",
       "      <td>8.112071e-01</td>\n",
       "      <td>7.969470e-01</td>\n",
       "      <td>8.111851e-01</td>\n",
       "      <td>7.969911e-01</td>\n",
       "      <td>6.558447e-01</td>\n",
       "      <td>6.371041e-01</td>\n",
       "      <td>9.768738e-01</td>\n",
       "      <td>8.851888e-01</td>\n",
       "      <td>9.811789e-01</td>\n",
       "      <td>9.049636e-01</td>\n",
       "    </tr>\n",
       "  </tbody>\n",
       "</table>\n",
       "</div>"
      ],
      "text/plain": [
       "      Linreg Training   Linreg Test  Polireg Training  Polireg Test  \\\n",
       "MAE      9.480224e+04  9.889474e+04      6.777670e+04  7.925705e+04   \n",
       "MSE      2.521377e+10  2.957933e+10      1.159734e+10  2.048481e+10   \n",
       "RMSE     1.587885e+05  1.719864e+05      1.076909e+05  1.431251e+05   \n",
       "R2       8.112074e-01  7.969555e-01      9.131629e-01  8.593840e-01   \n",
       "\n",
       "      KNN Training      KNN Test  Lasso Training    Lasso Test  \\\n",
       "MAE            0.0  1.587584e+05    9.480532e+04  9.890335e+04   \n",
       "MSE            0.0  6.949825e+10    2.521382e+10  2.958058e+10   \n",
       "RMSE           0.0  2.636252e+05    1.587886e+05  1.719901e+05   \n",
       "R2             1.0  5.229360e-01    8.112071e-01  7.969470e-01   \n",
       "\n",
       "      Ridge Training    Ridge Test   EN Training       EN Test   RF Training  \\\n",
       "MAE     9.480790e+04  9.895278e+04  1.352519e+05  1.409625e+05  2.853330e+04   \n",
       "MSE     2.521676e+10  2.957416e+10  4.596290e+10  5.286635e+10  3.088563e+09   \n",
       "RMSE    1.587978e+05  1.719714e+05  2.143896e+05  2.299268e+05  5.557484e+04   \n",
       "R2      8.111851e-01  7.969911e-01  6.558447e-01  6.371041e-01  9.768738e-01   \n",
       "\n",
       "           RF Test  XGB Training      XGB Test  \n",
       "MAE   7.020933e+04  3.626775e+04  6.608320e+04  \n",
       "MSE   1.672559e+10  2.513612e+09  1.384482e+10  \n",
       "RMSE  1.293275e+05  5.013593e+04  1.176640e+05  \n",
       "R2    8.851888e-01  9.811789e-01  9.049636e-01  "
      ]
     },
     "execution_count": 40,
     "metadata": {},
     "output_type": "execute_result"
    }
   ],
   "source": [
    "data = {\n",
    "    \"Linreg Training\" : [MAE_Lintr, MSE_Lintr, RMSE_Lintr, R2_Lintr],\n",
    "    \"Linreg Test\" : [MAE_Lints, MSE_Lints, RMSE_Lints, R2_Lints],\n",
    "    \"Polireg Training\" : [MAE_Politr, MSE_Politr, RMSE_Politr, R2_Politr],\n",
    "    \"Polireg Test\" : [MAE_Polits, MSE_Polits, RMSE_Polits, R2_Polits],\n",
    "    \"KNN Training\" : [MAE_KNNtr, MSE_KNNtr, RMSE_KNNtr, R2_KNNtr],\n",
    "    \"KNN Test\" : [MAE_KNNts, MSE_KNNts, RMSE_KNNts, R2_KNNts],\n",
    "    \"Lasso Training\" : [MAE_Lassotr, MSE_Lassotr, RMSE_Lassotr, R2_Lassotr],\n",
    "    \"Lasso Test\" : [MAE_Lassots, MSE_Lassots, RMSE_Lassots, R2_Lassots],\n",
    "    \"Ridge Training\" : [MAE_Ridgetr, MSE_Ridgetr, RMSE_Ridgetr, R2_Ridgetr],\n",
    "    \"Ridge Test\" : [MAE_Ridgets, MSE_Ridgets, RMSE_Ridgets, R2_Ridgets],\n",
    "    \"EN Training\" : [MAE_ENtr, MSE_ENtr, RMSE_ENtr, R2_ENtr],\n",
    "    \"EN Test\" : [MAE_ENts, MSE_ENts, RMSE_ENts, R2_ENts],\n",
    "    \"RF Training\" : [MAE_RFtr, MSE_RFtr, RMSE_RFtr, R2_RFtr],\n",
    "    \"RF Test\" : [MAE_RFts, MSE_RFts, RMSE_RFts, R2_RFts],\n",
    "    \"XGB Training\" : [MAE_XGBtr, MSE_XGBtr, RMSE_XGBtr, R2_XGBtr],\n",
    "    \"XGB Test\" : [MAE_XGBts, MSE_XGBts, RMSE_XGBts, R2_XGBts]\n",
    "}\n",
    "print('Tuned')\n",
    "pd.DataFrame(data=data, index=['MAE', 'MSE', 'RMSE', 'R2'])"
   ]
  },
  {
   "cell_type": "markdown",
   "metadata": {},
   "source": [
    "**Comparation Scatterplot**"
   ]
  },
  {
   "cell_type": "code",
   "execution_count": 195,
   "metadata": {},
   "outputs": [
    {
     "data": {
      "image/png": "[encoded data removed]",
      "text/plain": [
       "<Figure size 648x648 with 9 Axes>"
      ]
     },
     "metadata": {
      "needs_background": "light"
     },
     "output_type": "display_data"
    },
    {
     "name": "stdout",
     "output_type": "stream",
     "text": [
      "Comparation Scatterplot\n"
     ]
    }
   ],
   "source": [
    "plt.figure(figsize=(9, 9))\n",
    "\n",
    "plt.subplot(3,3,1)\n",
    "plt.scatter(y_test, y_test, s=10, color='black', label='Actual')\n",
    "plt.legend(loc = 0)\n",
    "\n",
    "plt.subplot(3,3,2)\n",
    "plt.scatter(y_test, y_test, s=10, color='black', label='Actual')\n",
    "plt.scatter(y_test, y_pred_lints_tuned, s=10, label='Linear Regression')\n",
    "plt.legend(loc = 0)\n",
    "\n",
    "plt.subplot(3,3,3)\n",
    "plt.scatter(y_test, y_test, s=10, color='black', label='Actual')\n",
    "plt.scatter(y_test, y_pred_polits_tuned, s=10, color='orange', label='Polinomial Regression')\n",
    "plt.legend(loc = 0)\n",
    "\n",
    "plt.subplot(3,3,4)\n",
    "plt.scatter(y_test, y_test, s=10, color='black', label='Actual')\n",
    "plt.scatter(y_test, y_pred_knnts_tuned, s=10, color='red', label='KNN')\n",
    "plt.legend(loc = 0)\n",
    "\n",
    "plt.subplot(3,3,5)\n",
    "plt.scatter(y_test, y_test, s=10, color='black', label='Actual')\n",
    "plt.scatter(y_test, y_pred_lassots_tuned, s=10, color='brown', label='Lasso')\n",
    "plt.legend(loc = 0)\n",
    "\n",
    "plt.subplot(3,3,6)\n",
    "plt.scatter(y_test, y_test, s=10, color='black', label='Actual')\n",
    "plt.scatter(y_test, y_pred_ridgets_tuned, s=10, color='lime', label='Ridge')\n",
    "plt.legend(loc = 0)\n",
    "\n",
    "plt.subplot(3,3,7)\n",
    "plt.scatter(y_test, y_test, s=10, color='black', label='Actual')\n",
    "plt.scatter(y_test, y_pred_ENts_tuned, s=10, color='cyan', label='Elastic Net')\n",
    "plt.legend(loc = 0)\n",
    "\n",
    "plt.subplot(3,3,8)\n",
    "plt.scatter(y_test, y_test, s=10, color='black', label='Actual')\n",
    "plt.scatter(y_test, y_pred_RFts_tuned, s=10, color='green', label='Random Forest')\n",
    "plt.legend(loc = 0)\n",
    "\n",
    "plt.subplot(3,3,9)\n",
    "plt.scatter(y_test, y_test, s=10, color='black', label='Actual')\n",
    "plt.scatter(y_test, y_pred_XGBts_tuned, s=10, color='grey', label='XGBoost')\n",
    "plt.legend(loc = 0)\n",
    "\n",
    "plt.show()\n",
    "\n",
    "print('Comparation Scatterplot')"
   ]
  },
  {
   "cell_type": "code",
   "execution_count": null,
   "metadata": {},
   "outputs": [],
   "source": []
  }
 ],
 "metadata": {
  "kernelspec": {
   "display_name": "Python 3",
   "language": "python",
   "name": "python3"
  },
  "language_info": {
   "codemirror_mode": {
    "name": "ipython",
    "version": 3
   },
   "file_extension": ".py",
   "mimetype": "text/x-python",
   "name": "python",
   "nbconvert_exporter": "python",
   "pygments_lexer": "ipython3",
   "version": "3.8.3"
  }
 },
 "nbformat": 4,
 "nbformat_minor": 4
}
